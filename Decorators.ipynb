{
 "cells": [
  {
   "cell_type": "markdown",
   "metadata": {},
   "source": [
    "# Decorators\n",
    "\n",
    "Before starting on decorators, two concepts that we need to be familiar with:\n",
    "\n",
    "1. First-class functions\n",
    "\n",
    "2. Closures"
   ]
  },
  {
   "cell_type": "markdown",
   "metadata": {},
   "source": [
    "### First-class functions\n",
    "\n",
    "When functions in a language are treated like any other variable. They may be stored in data structures, passed as arguments, or used in control structures.\n",
    "\n",
    "Eg:"
   ]
  },
  {
   "cell_type": "code",
   "execution_count": 92,
   "metadata": {},
   "outputs": [
    {
     "name": "stdout",
     "output_type": "stream",
     "text": [
      "8\n",
      "8\n",
      "<function add at 0x000002B418AAA798>\n",
      "<function add at 0x000002B418AAA798>\n",
      "add\n",
      "add\n",
      "<class 'function'>\n"
     ]
    },
    {
     "data": {
      "text/plain": [
       "True"
      ]
     },
     "execution_count": 92,
     "metadata": {},
     "output_type": "execute_result"
    }
   ],
   "source": [
    "''' Assigning variables to function objects '''\n",
    "\n",
    "def add(x: int, y: int) -> int:\n",
    "    return x + y\n",
    "\n",
    "print(add(3, 5))\n",
    "\n",
    "sum_ = add\n",
    "\n",
    "print(sum_(3, 5))\n",
    "\n",
    "print(add)\n",
    "print(sum_)\n",
    "\n",
    "print(add.__name__)\n",
    "print(sum_.__name__)\n",
    "\n",
    "# add and sum_ are the same object with different names\n",
    "\n",
    "print(type(add))\n",
    "isinstance(add, object)\n",
    "\n",
    "# functions are objects in Python"
   ]
  },
  {
   "cell_type": "code",
   "execution_count": 93,
   "metadata": {},
   "outputs": [
    {
     "name": "stdout",
     "output_type": "stream",
     "text": [
      "multiply\n"
     ]
    },
    {
     "data": {
      "text/plain": [
       "14"
      ]
     },
     "execution_count": 93,
     "metadata": {},
     "output_type": "execute_result"
    }
   ],
   "source": [
    "def return_fn():\n",
    "    def multiply(a, b):\n",
    "        return a * b\n",
    "    return multiply\n",
    "\n",
    "rectangle_area = return_fn()\n",
    "\n",
    "print(rectangle_area.__name__)\n",
    "\n",
    "rectangle_area(2, 7)"
   ]
  },
  {
   "cell_type": "markdown",
   "metadata": {},
   "source": [
    "### Closures\n",
    "\n",
    "Functions which remember the environment (enclosing scope) in which they were created even if the enclosing scope has finished executing.\n",
    "\n",
    "eg:"
   ]
  },
  {
   "cell_type": "code",
   "execution_count": 94,
   "metadata": {},
   "outputs": [
    {
     "name": "stdout",
     "output_type": "stream",
     "text": [
      "Displaying inside inner function: Hello!\n",
      "Displaying inside inner function: Hello!\n"
     ]
    }
   ],
   "source": [
    "def define_message(msg: str):\n",
    "    def display_message():\n",
    "        print('Displaying inside inner function: ' + msg)\n",
    "    return display_message\n",
    "\n",
    "hello_fn = define_message('Hello!')\n",
    "\n",
    "hello_fn()\n",
    "hello_fn()"
   ]
  },
  {
   "cell_type": "code",
   "execution_count": 96,
   "metadata": {},
   "outputs": [
    {
     "name": "stdout",
     "output_type": "stream",
     "text": [
      "Displaying inside inner function: Goodbye!\n",
      "Displaying inside inner function: Hello!\n"
     ]
    }
   ],
   "source": [
    "goodbye_fn = define_message('Goodbye!')\n",
    "\n",
    "goodbye_fn()\n",
    "hello_fn()"
   ]
  },
  {
   "cell_type": "markdown",
   "metadata": {},
   "source": [
    "Although ```hello_fn``` or ```goodbye_fn``` did not accept any message as argument, it was still able to display the message as it remembered the variables in its enclosing scope (```define_message```) during the time of creation even after it had been executed.\n",
    "\n",
    "\n",
    "#### Why do we use closures?\n",
    "\n",
    "- Data hiding\n",
    "\n",
    "- Reduce use of global variables\n",
    "\n",
    "- Visualise OOP design without using OOP for smaller-scale programs\n",
    "\n",
    "\n",
    "Possible practical application of closures:"
   ]
  },
  {
   "cell_type": "code",
   "execution_count": 97,
   "metadata": {},
   "outputs": [
    {
     "name": "stdout",
     "output_type": "stream",
     "text": [
      "<h1> Hello </h1>\n",
      "<h2> We are learning closures </h2>\n",
      "<p> We will learn decorators soon </p>\n"
     ]
    }
   ],
   "source": [
    "# Using closures to add HTML tags\n",
    "\n",
    "def add_tag(tag):\n",
    "    def print_message(msg):\n",
    "        print('<{0}> {1} </{0}>'.format(tag, msg))\n",
    "    return print_message\n",
    "\n",
    "h1_msg = add_tag('h1')\n",
    "h2_msg = add_tag('h2')\n",
    "p_msg = add_tag('p')\n",
    "\n",
    "h1_msg('Hello')\n",
    "h2_msg('We are learning closures')\n",
    "p_msg('We will learn decorators soon')"
   ]
  },
  {
   "cell_type": "markdown",
   "metadata": {},
   "source": [
    "### Decorator Functions\n",
    "\n",
    "Adds functionality (\"decoration\") to an already existing piece of code and returns it.\n",
    "\n",
    "A decorator is a function that accepts another function as parameter, and it usually modifies or enhances the function it accepted and returns the modified function.\n",
    "\n",
    "\n",
    "![decorator](https://i.ibb.co/SQj1WjY/1-nphtlr-Db-U-l1-Tlfsp-nlvg.jpg)"
   ]
  },
  {
   "cell_type": "code",
   "execution_count": 100,
   "metadata": {},
   "outputs": [
    {
     "data": {
      "text/plain": [
       "2"
      ]
     },
     "execution_count": 100,
     "metadata": {},
     "output_type": "execute_result"
    }
   ],
   "source": [
    "# decorator function defined below as\n",
    "\n",
    "def decorate_divide(func):\n",
    "    def decorated(a, b):\n",
    "        if b == 0:\n",
    "            print('Integer division by 0 not permitted')\n",
    "            return 0\n",
    "        return func(a, b)\n",
    "    return decorated\n",
    "\n",
    "def divide(x, y):\n",
    "    return x // y\n",
    "\n",
    "decorated_divide = decorate_divide(divide)\n",
    "\n",
    "decorated_divide(6, 3)"
   ]
  },
  {
   "cell_type": "markdown",
   "metadata": {},
   "source": [
    "```decorated_divide``` is the function ```divide``` after adding added functionality to it. We can observe this in the following snippet:"
   ]
  },
  {
   "cell_type": "code",
   "execution_count": 101,
   "metadata": {},
   "outputs": [
    {
     "name": "stdout",
     "output_type": "stream",
     "text": [
      "Integer division by 0 not permitted\n"
     ]
    },
    {
     "data": {
      "text/plain": [
       "0"
      ]
     },
     "execution_count": 101,
     "metadata": {},
     "output_type": "execute_result"
    }
   ],
   "source": [
    "decorated_divide(10, 0)"
   ]
  },
  {
   "cell_type": "code",
   "execution_count": 102,
   "metadata": {},
   "outputs": [
    {
     "name": "stdout",
     "output_type": "stream",
     "text": [
      "<function divide at 0x000002B4189F2708>\n",
      "<function decorate_divide.<locals>.decorated at 0x000002B4189F25E8>\n"
     ]
    }
   ],
   "source": [
    "# Different objects\n",
    "\n",
    "print(divide)\n",
    "print(decorated_divide)"
   ]
  },
  {
   "cell_type": "code",
   "execution_count": 104,
   "metadata": {},
   "outputs": [
    {
     "name": "stdout",
     "output_type": "stream",
     "text": [
      "<function decorate.<locals>.decorated at 0x000002B418A96798>\n",
      "<function decorate.<locals>.decorated at 0x000002B4189C4798>\n",
      "Integer division by 0 not permitted\n"
     ]
    },
    {
     "data": {
      "text/plain": [
       "0"
      ]
     },
     "execution_count": 104,
     "metadata": {},
     "output_type": "execute_result"
    }
   ],
   "source": [
    "# Also different objects\n",
    "#\n",
    "# Therefore, function != decorated function\n",
    "\n",
    "print(divide)\n",
    "divide = decorate(divide)\n",
    "print(divide)\n",
    "\n",
    "divide(4, 0)"
   ]
  },
  {
   "cell_type": "markdown",
   "metadata": {},
   "source": [
    "### How decorator functions are used in Python"
   ]
  },
  {
   "cell_type": "code",
   "execution_count": 105,
   "metadata": {},
   "outputs": [
    {
     "data": {
      "text/plain": [
       "3"
      ]
     },
     "execution_count": 105,
     "metadata": {},
     "output_type": "execute_result"
    }
   ],
   "source": [
    "def decorator_fn(func):\n",
    "    def decorated(a, b):\n",
    "        if b == 0:\n",
    "            print('Integer division by 0 not permitted')\n",
    "            return 0\n",
    "        return func(a, b)\n",
    "    return decorated\n",
    "\n",
    "@decorator_fn\n",
    "def divide1(x, y):\n",
    "    return x // y\n",
    "\n",
    "divide1(6, 2)"
   ]
  },
  {
   "cell_type": "code",
   "execution_count": 106,
   "metadata": {},
   "outputs": [
    {
     "name": "stdout",
     "output_type": "stream",
     "text": [
      "Integer division by 0 not permitted\n"
     ]
    },
    {
     "data": {
      "text/plain": [
       "0"
      ]
     },
     "execution_count": 106,
     "metadata": {},
     "output_type": "execute_result"
    }
   ],
   "source": [
    "divide1(5, 0)"
   ]
  },
  {
   "cell_type": "markdown",
   "metadata": {},
   "source": [
    "#### Explicit Implementation\n",
    "\n",
    "In Python, we use the `@` symbol to decorate a function using decorators. \n",
    "\n",
    "```\n",
    "@decorate\n",
    "def divide(x, y):\n",
    "    return x // y\n",
    "```\n",
    "\n",
    "This is equivalent to the following code where we implement decorators explicitly:\n",
    "\n",
    "```\n",
    "divide = decorate(divide)\n",
    "```"
   ]
  },
  {
   "cell_type": "markdown",
   "metadata": {},
   "source": [
    "### Decorator Classes\n",
    "\n",
    "Functions are not the only way to implement decorators in Python - we may also use classes. Although decorator functions are much more commonly seen in Python, some coders prefer to use classes instead.\n",
    "\n",
    "Decorator class for the same example as above:"
   ]
  },
  {
   "cell_type": "code",
   "execution_count": 107,
   "metadata": {},
   "outputs": [
    {
     "name": "stdout",
     "output_type": "stream",
     "text": [
      "Integer division by 0 not permitted\n"
     ]
    },
    {
     "data": {
      "text/plain": [
       "0"
      ]
     },
     "execution_count": 107,
     "metadata": {},
     "output_type": "execute_result"
    }
   ],
   "source": [
    "class decorator_class(object):\n",
    "    \n",
    "    def __init__(self, func):\n",
    "        self.original_func = func\n",
    "        \n",
    "    def __call__(self, a, b):\n",
    "        if b == 0:\n",
    "            print('Integer division by 0 not permitted')\n",
    "            return 0\n",
    "        return self.original_func(a, b)\n",
    "    \n",
    "@decorator_class\n",
    "def divide2(x, y):\n",
    "    return x // y\n",
    "\n",
    "divide2(5, 0)"
   ]
  },
  {
   "cell_type": "code",
   "execution_count": 91,
   "metadata": {},
   "outputs": [
    {
     "data": {
      "text/plain": [
       "4"
      ]
     },
     "execution_count": 91,
     "metadata": {},
     "output_type": "execute_result"
    }
   ],
   "source": [
    "divide2(12, 3)"
   ]
  }
 ],
 "metadata": {
  "kernelspec": {
   "display_name": "Python 3",
   "language": "python",
   "name": "python3"
  },
  "language_info": {
   "codemirror_mode": {
    "name": "ipython",
    "version": 3
   },
   "file_extension": ".py",
   "mimetype": "text/x-python",
   "name": "python",
   "nbconvert_exporter": "python",
   "pygments_lexer": "ipython3",
   "version": "3.7.4"
  }
 },
 "nbformat": 4,
 "nbformat_minor": 2
}
